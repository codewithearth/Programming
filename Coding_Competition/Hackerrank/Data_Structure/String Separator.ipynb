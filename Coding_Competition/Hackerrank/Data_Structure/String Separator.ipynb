{
 "cells": [
  {
   "cell_type": "code",
   "execution_count": 1,
   "metadata": {},
   "outputs": [
    {
     "name": "stdout",
     "output_type": "stream",
     "text": [
      "2\n",
      "Hacker\n",
      "Hce akr\n",
      "rank\n",
      "rn ak\n"
     ]
    }
   ],
   "source": [
    "n = int(input())\n",
    "s1 = []\n",
    "s2 = []\n",
    "for i in range(n):\n",
    "    s = input()\n",
    "    for j in range(len(s)):\n",
    "        if j%2 == 0:\n",
    "            s1.append(s[j])\n",
    "        else:\n",
    "            s2.append(s[j])\n",
    "    for s11 in s1:\n",
    "        print(s11,end =\"\")\n",
    "    print(\" \",end=\"\")\n",
    "    for s21 in s2:\n",
    "        print(s21,end =\"\")\n",
    "    print(\"\")\n",
    "    s1.clear()\n",
    "    s2.clear()"
   ]
  },
  {
   "cell_type": "code",
   "execution_count": null,
   "metadata": {},
   "outputs": [],
   "source": []
  }
 ],
 "metadata": {
  "kernelspec": {
   "display_name": "Python 3",
   "language": "python",
   "name": "python3"
  },
  "language_info": {
   "codemirror_mode": {
    "name": "ipython",
    "version": 3
   },
   "file_extension": ".py",
   "mimetype": "text/x-python",
   "name": "python",
   "nbconvert_exporter": "python",
   "pygments_lexer": "ipython3",
   "version": "3.8.5"
  }
 },
 "nbformat": 4,
 "nbformat_minor": 4
}
