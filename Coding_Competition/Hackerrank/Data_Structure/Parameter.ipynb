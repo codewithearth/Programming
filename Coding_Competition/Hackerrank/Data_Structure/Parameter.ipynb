{
 "cells": [
  {
   "cell_type": "code",
   "execution_count": 1,
   "metadata": {},
   "outputs": [
    {
     "data": {
      "text/plain": [
       "[[0, 0, 0],\n",
       " [0, 0, 1],\n",
       " [0, 1, 0],\n",
       " [0, 1, 2],\n",
       " [0, 2, 1],\n",
       " [0, 2, 2],\n",
       " [1, 0, 0],\n",
       " [1, 0, 2],\n",
       " [1, 1, 1],\n",
       " [1, 1, 2],\n",
       " [1, 2, 0],\n",
       " [1, 2, 1],\n",
       " [1, 2, 2],\n",
       " [2, 0, 1],\n",
       " [2, 0, 2],\n",
       " [2, 1, 0],\n",
       " [2, 1, 1],\n",
       " [2, 1, 2],\n",
       " [2, 2, 0],\n",
       " [2, 2, 1],\n",
       " [2, 2, 2]]"
      ]
     },
     "execution_count": 1,
     "metadata": {},
     "output_type": "execute_result"
    }
   ],
   "source": [
    "2\n",
    "2\n",
    "2\n",
    "2\n",
    "[[0, 0, 0],\n",
    " [0, 0, 1],\n",
    " [0, 1, 0],\n",
    " [0, 1, 2],\n",
    " [0, 2, 1],\n",
    " [0, 2, 2],\n",
    " [1, 0, 0],\n",
    " [1, 0, 2],\n",
    " [1, 1, 1],\n",
    " [1, 1, 2],\n",
    " [1, 2, 0],\n",
    " [1, 2, 1],\n",
    " [1, 2, 2],\n",
    " [2, 0, 1],\n",
    " [2, 0, 2],\n",
    " [2, 1, 0],\n",
    " [2, 1, 1],\n",
    " [2, 1, 2],\n",
    " [2, 2, 0],\n",
    " [2, 2, 1],\n",
    " [2, 2, 2]]\n"
   ]
  },
  {
   "cell_type": "code",
   "execution_count": 30,
   "metadata": {
    "hide_input": false
   },
   "outputs": [
    {
     "name": "stdout",
     "output_type": "stream",
     "text": [
      "0\n",
      "1\n",
      "0\n",
      "0\n",
      "[[0], [1], [0]]\n"
     ]
    }
   ],
   "source": [
    "if __name__ == '__main__':\n",
    "    x = int(input())\n",
    "    y = int(input())\n",
    "    z = int(input())\n",
    "    n = int(input())\n",
    "    m = int(str(x)+str(y)+str(z))\n",
    "    l = []\n",
    "    l1 = [['0']]\n",
    "    result = []\n",
    "    s = 0\n",
    "    s1 = 100\n",
    "    for i in range(1,m+1):\n",
    "        i = str(i)\n",
    "        s += 1\n",
    "        if s == 100:\n",
    "            s1 +=s\n",
    "            s = 0\n",
    "        if int(i)>9:    \n",
    "            if int(str(y)+str(z)) <int(i[-2]+i[-1]) and int(i)<s1:\n",
    "                continue\n",
    "\n",
    "        for i1 in i:\n",
    "            for j in range(z+1):\n",
    "                if str(j) == i1:\n",
    "                    l.append(int(j))           \n",
    "        for k in range(len(l1)):\n",
    "            if l1[k] == l or sum(l) == n:\n",
    "                break\n",
    "        if l1[k] == l or sum(l) == n:\n",
    "            l.clear()\n",
    "            continue\n",
    "        elif len(i) == len(l):\n",
    "            l1.append(list(i))\n",
    "        l.clear()\n",
    "    for n in l1:\n",
    "        if x == 0 and y ==0 and z == 0:\n",
    "            result = []\n",
    "            break\n",
    "        if x == 0 and y ==1 and z == 0:\n",
    "            result = [[x,y,z]]\n",
    "            break\n",
    "        q = 0\n",
    "        if len(n)<3:\n",
    "            for o in range((3-len(n))):\n",
    "                n.insert(0,0)\n",
    "        for n1 in n:\n",
    "            if isinstance(n1,str):\n",
    "                n[q] = int(n1)\n",
    "            q +=1\n",
    "        result.append(n)\n",
    "    print(result)\n",
    "       "
   ]
  },
  {
   "cell_type": "code",
   "execution_count": 3,
   "metadata": {},
   "outputs": [],
   "source": [
    "[[0, 0, 0], [0, 0, 1], [0, 0, 2], [0, 0, 3], [0, 0, 4], [0, 1, 0], [0, 1, 1], [0, 1, 2], [0, 1, 3],\n",
    " [0, 2, 0], [0, 2, 1], [0, 2, 2], [0, 2, 4], [0, 3, 0], [0, 3, 1], [0, 3, 3], [0, 3, 4], [1, 0, 0],\n",
    " [1, 0, 1], [1, 0, 2], [1, 0, 3], [1, 1, 0], [1, 1, 1], [1, 1, 2], [1, 1, 4], [1, 2, 0], [1, 2, 1],\n",
    " [1, 2, 3], [1, 2, 4], [1, 3, 0], [1, 3, 2], [1, 3, 3], [1, 3, 4], [2, 0, 0], [2, 0, 1], [2, 0, 2],\n",
    " [2, 0, 4], [2, 1, 0], [2, 1, 1], [2, 1, 3], [2, 1, 4], [2, 2, 0], [2, 2, 2], [2, 2, 3], [2, 2, 4],\n",
    " [2, 3, 1], [2, 3, 2], [2, 3, 3], [2, 3, 4]]\n",
    "\n",
    "\n",
    "\n",
    "\n",
    "\n",
    "[[0, 0, 0], [0, 0, 1], [0, 0, 2], [0, 1, 0], [0, 1, 1], [0, 1, 3], [0, 2, 0], [0, 2, 2], [0, 2, 3],\n",
    " [1, 0, 0], [1, 0, 1], [1, 0, 3], [1, 1, 0], [1, 1, 2], [1, 1, 3], [1, 2, 1], [1, 2, 2], [1, 2, 3]]\n",
    "a = [0,1,2]\n",
    "# a = str(a)\n",
    "b = [1,0]\n",
    "if a[1] == b:\n",
    "    print(len(a)+len(b))"
   ]
  }
 ],
 "metadata": {
  "kernelspec": {
   "display_name": "Python 3",
   "language": "python",
   "name": "python3"
  },
  "language_info": {
   "codemirror_mode": {
    "name": "ipython",
    "version": 3
   },
   "file_extension": ".py",
   "mimetype": "text/x-python",
   "name": "python",
   "nbconvert_exporter": "python",
   "pygments_lexer": "ipython3",
   "version": "3.8.5"
  },
  "toc": {
   "base_numbering": 1,
   "nav_menu": {},
   "number_sections": true,
   "sideBar": true,
   "skip_h1_title": false,
   "title_cell": "Table of Contents",
   "title_sidebar": "Contents",
   "toc_cell": false,
   "toc_position": {},
   "toc_section_display": true,
   "toc_window_display": false
  },
  "varInspector": {
   "cols": {
    "lenName": 16,
    "lenType": 16,
    "lenVar": 40
   },
   "kernels_config": {
    "python": {
     "delete_cmd_postfix": "",
     "delete_cmd_prefix": "del ",
     "library": "var_list.py",
     "varRefreshCmd": "print(var_dic_list())"
    },
    "r": {
     "delete_cmd_postfix": ") ",
     "delete_cmd_prefix": "rm(",
     "library": "var_list.r",
     "varRefreshCmd": "cat(var_dic_list()) "
    }
   },
   "types_to_exclude": [
    "module",
    "function",
    "builtin_function_or_method",
    "instance",
    "_Feature"
   ],
   "window_display": false
  }
 },
 "nbformat": 4,
 "nbformat_minor": 4
}
