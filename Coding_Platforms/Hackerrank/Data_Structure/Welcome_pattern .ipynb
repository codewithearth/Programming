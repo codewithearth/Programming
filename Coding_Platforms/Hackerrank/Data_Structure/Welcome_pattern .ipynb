{
 "cells": [
  {
   "cell_type": "code",
   "execution_count": null,
   "metadata": {
    "ExecuteTime": {
     "start_time": "2021-06-08T13:11:47.542Z"
    }
   },
   "outputs": [],
   "source": [
    "lst1 = [int(x) for x in input().split(\" \")]\n",
    "N = lst1[0]\n",
    "M = lst1[1]\n",
    "note = \"WELCOME\"\n",
    "B = set([])\n",
    "for i in range(1,N+1):\n",
    "    for j in range(1,M+1):\n",
    "        if i < (N+1)/2:\n",
    "            b = int(((M+1)/2)-(3*(i-1)))\n",
    "            c = int(((M+1)/2)+(3*(i-1)))\n",
    "            B.add(c)\n",
    "            B.add(b)\n",
    "            j1 = ((M+1)/2)-(1+(3*(i-1)))\n",
    "            j2 = ((M+1)/2)+(1+(3*(i-1)))\n",
    "            if j<j1 or j>j2:\n",
    "                print(\"-\",end = \"\")\n",
    "            elif j == ((M+1)/2) or j in B:\n",
    "                print(\"|\",end=\"\")\n",
    "            else:\n",
    "                print(\".\",end=\"\")\n",
    "        elif i > (N+1)/2:\n",
    "            j3 = 3+3*((i-1)-((N+1)/2))\n",
    "            j4 = M-(3+3*((i-1)-((N+1)/2)))\n",
    "            if j <=j3 or j>j4:\n",
    "                print(\"-\",end = \"\")\n",
    "            elif j == ((M+1)/2) or j in B:\n",
    "                print(\"|\",end=\"\")\n",
    "            else:\n",
    "                print(\".\",end=\"\")\n",
    "        else:\n",
    "            m = (M-7)/2\n",
    "            if j <(m+1)or j>(m+7):\n",
    "                print(\"-\",end=\"\")\n",
    "            else:\n",
    "                n = int(j-(m+1))\n",
    "                print(note[n],end=\"\")\n",
    "    print(\"\")               \n",
    "# ------------.|.------------\n",
    "# ---------.|..|..|.---------\n",
    "# ------.|..|..|..|..|.------\n",
    "# ---.|..|..|..|..|..|..|.---\n",
    "# ----------WELCOME----------\n",
    "# ---.|..|..|..|..|..|..|.---\n",
    "# ------.|..|..|..|..|.------\n",
    "# ---------.|..|..|.---------\n",
    "# ------------.|.------------        "
   ]
  },
  {
   "cell_type": "code",
   "execution_count": 4,
   "metadata": {
    "ExecuteTime": {
     "end_time": "2021-06-08T13:10:34.022676Z",
     "start_time": "2021-06-08T13:10:30.378722Z"
    }
   },
   "outputs": [
    {
     "name": "stdout",
     "output_type": "stream",
     "text": [
      "7\n",
      "21\n",
      "---------------------\n",
      "---------------------\n",
      "---------------------\n",
      "WELCOME\n",
      "---------------------\n",
      "---------------------\n",
      "---------------------\n"
     ]
    }
   ],
   "source": [
    "N = int(input())\n",
    "M = int(input())\n",
    "for i in range(N):\n",
    "    for j in range(M):\n",
    "        if i ==(N//2):\n",
    "            print((\"WELCOME\").center(1),end=\"\")\n",
    "            break\n",
    "        else:\n",
    "            print(\"-\",end=\"\")\n",
    "    print(\"\")\n",
    "# ------------.|.------------\n",
    "# ---------.|..|..|.---------\n",
    "# ------.|..|..|..|..|.------\n",
    "# ---.|..|..|..|..|..|..|.---\n",
    "# ----------WELCOME----------\n",
    "# ---.|..|..|..|..|..|..|.---\n",
    "# ------.|..|..|..|..|.------\n",
    "# ---------.|..|..|.---------\n",
    "# ------------.|.------------        "
   ]
  }
 ],
 "metadata": {
  "kernelspec": {
   "display_name": "Python 3",
   "language": "python",
   "name": "python3"
  }
 },
 "nbformat": 4,
 "nbformat_minor": 4
}
